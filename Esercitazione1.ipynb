{
 "cells": [
  {
   "cell_type": "code",
   "execution_count": 1,
   "id": "53a3a26c-caac-4156-a43a-c40335ed6fe1",
   "metadata": {},
   "outputs": [],
   "source": [
    "# Assegnazione del numero di studenti a una variabile\n",
    "numero_studenti = 25"
   ]
  },
  {
   "cell_type": "code",
   "execution_count": 5,
   "id": "ed78a97f-6020-403e-aae4-4e3fada16747",
   "metadata": {},
   "outputs": [
    {
     "name": "stdout",
     "output_type": "stream",
     "text": [
      "25\n"
     ]
    }
   ],
   "source": [
    "print(numero_studenti)"
   ]
  },
  {
   "cell_type": "code",
   "execution_count": 7,
   "id": "df075d20-4000-471e-8be9-82d82e2ce91a",
   "metadata": {},
   "outputs": [
    {
     "name": "stdout",
     "output_type": "stream",
     "text": [
      "3\n"
     ]
    }
   ],
   "source": [
    "# Assegnazione del numero di nuovi studenti a un'altra variabile\n",
    "nuovi_studenti = 3\n",
    "print(nuovi_studenti)"
   ]
  },
  {
   "cell_type": "code",
   "execution_count": 9,
   "id": "c5cb2d15-8abd-487e-88f5-73958bd4cb35",
   "metadata": {},
   "outputs": [
    {
     "name": "stdout",
     "output_type": "stream",
     "text": [
      "28\n"
     ]
    }
   ],
   "source": [
    "somma_studenti = numero_studenti + nuovi_studenti\n",
    "print(somma_studenti)"
   ]
  },
  {
   "cell_type": "code",
   "execution_count": 11,
   "id": "8c77a901-4347-43f3-9d7b-393a96afab44",
   "metadata": {},
   "outputs": [
    {
     "name": "stdout",
     "output_type": "stream",
     "text": [
      "Epicode\n"
     ]
    }
   ],
   "source": [
    "#Creare una variabile che contiene la stringa \"Epicode\", quindi stamparla a video\n",
    "epic = 'Epicode'\n",
    "print(epic)"
   ]
  },
  {
   "cell_type": "markdown",
   "id": "be2764f4-89d6-4533-8a34-daa67caf4be4",
   "metadata": {},
   "source": [
    "## Esercizio incremento\n",
    "### Metodo 1: Utilizzando gli operatori di assegnazione"
   ]
  },
  {
   "cell_type": "code",
   "execution_count": 14,
   "id": "d45778bc-0075-4a19-9b83-c7f1e1cf9e6d",
   "metadata": {},
   "outputs": [
    {
     "name": "stdout",
     "output_type": "stream",
     "text": [
      "36\n"
     ]
    }
   ],
   "source": [
    "# Inizializzazione della variabile\n",
    "x = 10\n",
    "\n",
    "# Incremento di 2 utilizzando l'operatore di assegnazione\n",
    "x += 2\n",
    "\n",
    "# Moltiplicazione per 3 utilizzando l'operatore di assegnazione\n",
    "x *= 3\n",
    "\n",
    "# Stampa del risultato\n",
    "print(x)"
   ]
  },
  {
   "cell_type": "markdown",
   "id": "e1f6e0d3-e9a3-405c-a7f9-9a44194ef5c8",
   "metadata": {},
   "source": [
    "### Metodo 2: Senza utilizzare gli operatori di assegnazione"
   ]
  },
  {
   "cell_type": "code",
   "execution_count": 20,
   "id": "4d1a82cb-0b44-456e-9382-d7da47baf6b7",
   "metadata": {},
   "outputs": [
    {
     "name": "stdout",
     "output_type": "stream",
     "text": [
      "36\n"
     ]
    }
   ],
   "source": [
    "# Inizializzazione della variabile\n",
    "x = 10\n",
    "\n",
    "# Incremento di 2 senza utilizzare l'operatore di assegnazione\n",
    "x = x + 2\n",
    "\n",
    "# Moltiplicazione per 3 senza utilizzare l'operatore di assegnazione\n",
    "x = x * 3\n",
    "\n",
    "# Stampa del risultato\n",
    "print(x)"
   ]
  },
  {
   "cell_type": "markdown",
   "id": "ec1ffc50-dd70-4ac8-990e-da36122bb4a6",
   "metadata": {},
   "source": [
    "## Verificare se il n caratteri è compreso tra 5 e 8"
   ]
  },
  {
   "cell_type": "code",
   "execution_count": 22,
   "id": "f2c82b66-f7d6-4ee3-833a-924e00bfe0c2",
   "metadata": {},
   "outputs": [],
   "source": [
    "# Definizione delle stringhe\n",
    "str1 = \"Windows\"\n",
    "str2 = \"Excel\"\n",
    "str3 = \"Powerpoint\"\n",
    "str4 = \"Word\""
   ]
  },
  {
   "cell_type": "code",
   "execution_count": 29,
   "id": "6dce3ea9-999d-4ad0-b13c-eba0ad7d9e1c",
   "metadata": {},
   "outputs": [
    {
     "data": {
      "text/plain": [
       "True"
      ]
     },
     "execution_count": 29,
     "metadata": {},
     "output_type": "execute_result"
    }
   ],
   "source": [
    "5 < len(str1) < 8"
   ]
  },
  {
   "cell_type": "code",
   "execution_count": 31,
   "id": "5a159c7c-56eb-41aa-b5b8-98545dc627f6",
   "metadata": {},
   "outputs": [
    {
     "data": {
      "text/plain": [
       "False"
      ]
     },
     "execution_count": 31,
     "metadata": {},
     "output_type": "execute_result"
    }
   ],
   "source": [
    "5 < len(str2) < 8"
   ]
  },
  {
   "cell_type": "code",
   "execution_count": 33,
   "id": "3c013139-2882-48a7-b726-034490f08079",
   "metadata": {},
   "outputs": [
    {
     "data": {
      "text/plain": [
       "False"
      ]
     },
     "execution_count": 33,
     "metadata": {},
     "output_type": "execute_result"
    }
   ],
   "source": [
    "5 < len(str3) < 8"
   ]
  },
  {
   "cell_type": "code",
   "execution_count": 35,
   "id": "6fd22cff-bd1c-4e9d-b9ca-05d6ce639117",
   "metadata": {},
   "outputs": [
    {
     "data": {
      "text/plain": [
       "False"
      ]
     },
     "execution_count": 35,
     "metadata": {},
     "output_type": "execute_result"
    }
   ],
   "source": [
    "5 < len(str4) < 8"
   ]
  },
  {
   "cell_type": "markdown",
   "id": "dee37d9d-24a9-4fbf-90cc-1795679fc7d2",
   "metadata": {},
   "source": [
    "## Calcolare e stampare a video quanti secondi ci sono in un anno non bisestile."
   ]
  },
  {
   "cell_type": "code",
   "execution_count": 38,
   "id": "7cfb32e7-cc33-461b-95a1-538fafa7f434",
   "metadata": {},
   "outputs": [
    {
     "name": "stdout",
     "output_type": "stream",
     "text": [
      "Il numero di secondi in un anno non bisestile è: 31536000\n"
     ]
    }
   ],
   "source": [
    "# Calcolo dei secondi in un anno non bisestile\n",
    "secondi_in_un_anno = 365 * 24 * 60 * 60\n",
    "\n",
    "# Stampare il risultato\n",
    "print(f\"Il numero di secondi in un anno non bisestile è: {secondi_in_un_anno}\")"
   ]
  },
  {
   "cell_type": "code",
   "execution_count": 40,
   "id": "52b58263-fb5c-4ba0-8881-b28c7f521f59",
   "metadata": {},
   "outputs": [
    {
     "name": "stdout",
     "output_type": "stream",
     "text": [
      "Stringa in maiuscolo: I AM STUDYING PYTHON\n",
      "Stringa in minuscolo: i am studying python\n",
      "Stringa modificata: I am studying a lot\n",
      "Stringa dopo .strip(): I am studying Python\n",
      "La stringa originale: I am studying Python\n"
     ]
    }
   ],
   "source": [
    "# Definizione della stringa iniziale\n",
    "my_string = \"I am studying Python\"\n",
    "\n",
    "# Trasformare tutti i caratteri in maiuscolo (uppercase)\n",
    "uppercase_string = my_string.upper()\n",
    "print(\"Stringa in maiuscolo:\", uppercase_string)\n",
    "\n",
    "# Trasformare tutti i caratteri in minuscolo (lowercase)\n",
    "lowercase_string = my_string.lower()\n",
    "print(\"Stringa in minuscolo:\", lowercase_string)\n",
    "\n",
    "# Sostituire la sottostringa \"Python\" con \"a lot\"\n",
    "modified_string = my_string.replace(\"Python\", \"a lot\")\n",
    "print(\"Stringa modificata:\", modified_string)\n",
    "\n",
    "# Utilizzare il metodo .strip() e confrontare con la stringa originale\n",
    "stripped_string = my_string.strip()\n",
    "print(\"Stringa dopo .strip():\", stripped_string)\n",
    "\n",
    "# Confronto con la stringa originale\n",
    "print(\"La stringa originale:\", my_string)"
   ]
  },
  {
   "cell_type": "code",
   "execution_count": null,
   "id": "6985265f-9e3b-436d-b813-130909832125",
   "metadata": {},
   "outputs": [],
   "source": []
  }
 ],
 "metadata": {
  "kernelspec": {
   "display_name": "Python 3 (ipykernel)",
   "language": "python",
   "name": "python3"
  },
  "language_info": {
   "codemirror_mode": {
    "name": "ipython",
    "version": 3
   },
   "file_extension": ".py",
   "mimetype": "text/x-python",
   "name": "python",
   "nbconvert_exporter": "python",
   "pygments_lexer": "ipython3",
   "version": "3.11.7"
  }
 },
 "nbformat": 4,
 "nbformat_minor": 5
}
